{
 "cells": [
  {
   "cell_type": "markdown",
   "metadata": {},
   "source": [
    "# DMTM example"
   ]
  },
  {
   "cell_type": "markdown",
   "metadata": {},
   "source": [
    "## Load input file"
   ]
  },
  {
   "cell_type": "code",
   "execution_count": 1,
   "metadata": {},
   "outputs": [
    {
     "name": "stdout",
     "output_type": "stream",
     "text": [
      "Loading input file: input.json.\n",
      "Reading states:\n",
      "* 2Cu\n",
      "* Cu-pair\n",
      "* CuO2Cu\n",
      "* CuOOCu\n",
      "* s2OCH4\n",
      "* sOsCH3OH\n",
      "* sO\n",
      "* sOCH4\n",
      "* sOHsCH3\n",
      "* sCH3OH\n",
      "* s\n",
      "* TS1\n",
      "* TS2\n",
      "* TS3\n",
      "* TS4\n",
      "* TS5\n",
      "* TS6\n",
      "* O2\n",
      "* CH4\n",
      "* CH3OH\n",
      "Reading system:\n",
      "* Pressure: 100000 Pa\n",
      "* Temperature: 400 K\n",
      "Reading reactions:\n",
      "* r0\n",
      "* r1\n",
      "* r2\n",
      "* r3\n",
      "* r4\n",
      "* r5\n",
      "* r6\n",
      "* r7\n",
      "* r8\n",
      "* r9\n",
      "* r10\n",
      "Reading reactor:\n",
      "* InfiniteDilutionReactor\n",
      "Reading energy landscapes:\n",
      "* full_pes\n",
      "Done.\n"
     ]
    }
   ],
   "source": [
    "from pycatkin.functions.load_input import read_from_input_file\n",
    "\n",
    "sim_system = read_from_input_file()\n"
   ]
  },
  {
   "cell_type": "code",
   "execution_count": 5,
   "metadata": {},
   "outputs": [
    {
     "data": {
      "text/plain": [
       "dict_values([])"
      ]
     },
     "execution_count": 5,
     "metadata": {},
     "output_type": "execute_result"
    }
   ],
   "source": [
    "sim_system.coverage_map.values()"
   ]
  },
  {
   "cell_type": "code",
   "execution_count": 4,
   "metadata": {},
   "outputs": [
    {
     "ename": "AssertionError",
     "evalue": "There is a mismatch between adsorbates and covered sites. Check",
     "output_type": "error",
     "traceback": [
      "\u001b[1;31m---------------------------------------------------------------------------\u001b[0m",
      "\u001b[1;31mAssertionError\u001b[0m                            Traceback (most recent call last)",
      "Cell \u001b[1;32mIn[4], line 1\u001b[0m\n\u001b[1;32m----> 1\u001b[0m \u001b[43msim_system\u001b[49m\u001b[38;5;241;43m.\u001b[39;49m\u001b[43mbuild\u001b[49m\u001b[43m(\u001b[49m\u001b[43m)\u001b[49m\n",
      "File \u001b[1;32mc:\\users\\joe48\\desktop\\pycatkin\\pycatkin\\classes\\system.py:180\u001b[0m, in \u001b[0;36mSystem.build\u001b[1;34m(self)\u001b[0m\n\u001b[0;32m    165\u001b[0m \u001b[38;5;28;01mdef\u001b[39;00m\u001b[38;5;250m \u001b[39m\u001b[38;5;21mbuild\u001b[39m(\u001b[38;5;28mself\u001b[39m):\n\u001b[0;32m    166\u001b[0m \u001b[38;5;250m    \u001b[39m\u001b[38;5;124;03m\"\"\"Once all the states have been added, it sets the System instance attributes\u001b[39;00m\n\u001b[0;32m    167\u001b[0m \n\u001b[0;32m    168\u001b[0m \u001b[38;5;124;03m    Sets:\u001b[39;00m\n\u001b[1;32m   (...)\u001b[0m\n\u001b[0;32m    178\u001b[0m \u001b[38;5;124;03m        self.reaction_matrix (np.array): Reaction matrix mapping which reactions are relevant to each species (check `self._reactant_reaction_matrix()`)\u001b[39;00m\n\u001b[0;32m    179\u001b[0m \u001b[38;5;124;03m    \"\"\"\u001b[39;00m\n\u001b[1;32m--> 180\u001b[0m     \u001b[38;5;28;43mself\u001b[39;49m\u001b[38;5;241;43m.\u001b[39;49m\u001b[43m_names_to_indices\u001b[49m\u001b[43m(\u001b[49m\u001b[43m)\u001b[49m\n\u001b[0;32m    181\u001b[0m     \u001b[38;5;28mself\u001b[39m\u001b[38;5;241m.\u001b[39m_mapping_reaction_indices()\n\u001b[0;32m    182\u001b[0m     \u001b[38;5;28mself\u001b[39m\u001b[38;5;241m.\u001b[39m_get_initial_conditions()\n",
      "File \u001b[1;32mc:\\users\\joe48\\desktop\\pycatkin\\pycatkin\\classes\\system.py:245\u001b[0m, in \u001b[0;36mSystem._names_to_indices\u001b[1;34m(self)\u001b[0m\n\u001b[0;32m    242\u001b[0m             \u001b[38;5;28mself\u001b[39m\u001b[38;5;241m.\u001b[39mindex_map[ads] \u001b[38;5;241m=\u001b[39m count \u001b[38;5;66;03m# ads_name : id\u001b[39;00m\n\u001b[0;32m    243\u001b[0m             count \u001b[38;5;241m+\u001b[39m\u001b[38;5;241m=\u001b[39m \u001b[38;5;241m1\u001b[39m\n\u001b[1;32m--> 245\u001b[0m \u001b[38;5;28;01massert\u001b[39;00m \u001b[38;5;28msum\u001b[39m([\u001b[38;5;28mlen\u001b[39m(value) \u001b[38;5;28;01mfor\u001b[39;00m value \u001b[38;5;129;01min\u001b[39;00m \u001b[38;5;28mself\u001b[39m\u001b[38;5;241m.\u001b[39mcoverage_map\u001b[38;5;241m.\u001b[39mvalues()]) \u001b[38;5;241m==\u001b[39m \u001b[38;5;28mlen\u001b[39m(adsorbates) \u001b[38;5;241m+\u001b[39m \u001b[38;5;28mlen\u001b[39m(surfaces), \u001b[38;5;124m\"\u001b[39m\u001b[38;5;124mThere is a mismatch between adsorbates and covered sites. Check\u001b[39m\u001b[38;5;124m\"\u001b[39m\n",
      "\u001b[1;31mAssertionError\u001b[0m: There is a mismatch between adsorbates and covered sites. Check"
     ]
    }
   ],
   "source": [
    "sim_system.build()"
   ]
  },
  {
   "cell_type": "code",
   "execution_count": 3,
   "metadata": {},
   "outputs": [
    {
     "ename": "AttributeError",
     "evalue": "'System' object has no attribute 'initial_system'",
     "output_type": "error",
     "traceback": [
      "\u001b[1;31m---------------------------------------------------------------------------\u001b[0m",
      "\u001b[1;31mAttributeError\u001b[0m                            Traceback (most recent call last)",
      "Cell \u001b[1;32mIn[3], line 1\u001b[0m\n\u001b[1;32m----> 1\u001b[0m \u001b[43msim_system\u001b[49m\u001b[38;5;241;43m.\u001b[39;49m\u001b[43mfind_steady\u001b[49m\u001b[43m(\u001b[49m\u001b[43m)\u001b[49m\n",
      "File \u001b[1;32mc:\\users\\joe48\\desktop\\pycatkin\\pycatkin\\classes\\system.py:579\u001b[0m, in \u001b[0;36mSystem.find_steady\u001b[1;34m(self, max_iters, y0, method)\u001b[0m\n\u001b[0;32m    577\u001b[0m \u001b[38;5;66;03m# Randomized initial guess\u001b[39;00m\n\u001b[0;32m    578\u001b[0m \u001b[38;5;28;01mif\u001b[39;00m y0 \u001b[38;5;129;01mis\u001b[39;00m \u001b[38;5;28;01mNone\u001b[39;00m:\n\u001b[1;32m--> 579\u001b[0m     y0 \u001b[38;5;241m=\u001b[39m \u001b[38;5;28mself\u001b[39m\u001b[38;5;241m.\u001b[39m_normalize_y(np\u001b[38;5;241m.\u001b[39mrandom\u001b[38;5;241m.\u001b[39muniform(size\u001b[38;5;241m=\u001b[39m\u001b[38;5;28mlen\u001b[39m(\u001b[38;5;28;43mself\u001b[39;49m\u001b[38;5;241;43m.\u001b[39;49m\u001b[43minitial_system\u001b[49m)))\n\u001b[0;32m    580\u001b[0m \u001b[38;5;28;01melif\u001b[39;00m \u001b[38;5;28mlen\u001b[39m(y0) \u001b[38;5;241m!=\u001b[39m \u001b[38;5;28mlen\u001b[39m(\u001b[38;5;28mself\u001b[39m\u001b[38;5;241m.\u001b[39minitial_system):\n\u001b[0;32m    581\u001b[0m     \u001b[38;5;28;01mraise\u001b[39;00m \u001b[38;5;167;01mValueError\u001b[39;00m(\u001b[38;5;124m\"\u001b[39m\u001b[38;5;124mInitial guess must have same length as initial guess... Include gas and surface species in here!\u001b[39m\u001b[38;5;124m\"\u001b[39m)\n",
      "\u001b[1;31mAttributeError\u001b[0m: 'System' object has no attribute 'initial_system'"
     ]
    }
   ],
   "source": [
    "sim_system.find_steady()"
   ]
  },
  {
   "cell_type": "code",
   "execution_count": null,
   "metadata": {},
   "outputs": [],
   "source": []
  },
  {
   "cell_type": "code",
   "execution_count": null,
   "metadata": {},
   "outputs": [],
   "source": []
  },
  {
   "cell_type": "code",
   "execution_count": null,
   "metadata": {},
   "outputs": [],
   "source": []
  },
  {
   "cell_type": "code",
   "execution_count": null,
   "metadata": {},
   "outputs": [],
   "source": []
  },
  {
   "cell_type": "code",
   "execution_count": null,
   "metadata": {},
   "outputs": [],
   "source": []
  },
  {
   "cell_type": "code",
   "execution_count": null,
   "metadata": {},
   "outputs": [],
   "source": []
  },
  {
   "cell_type": "markdown",
   "metadata": {},
   "source": [
    "## Draw energy landscape"
   ]
  },
  {
   "cell_type": "code",
   "execution_count": null,
   "metadata": {},
   "outputs": [],
   "source": [
    "from pycatkin.functions.presets import draw_energy_landscapes\n",
    "\n",
    "draw_energy_landscapes(sim_system=sim_system,\n",
    "                       etype='electronic',\n",
    "                       show_labels=True,\n",
    "                       fig_path='figures/')\n"
   ]
  },
  {
   "cell_type": "code",
   "execution_count": null,
   "metadata": {},
   "outputs": [],
   "source": [
    "sim_system.params['temperature'] = 450\n",
    "draw_energy_landscapes(sim_system=sim_system,\n",
    "                       fig_path='figures/')\n"
   ]
  },
  {
   "cell_type": "markdown",
   "metadata": {},
   "source": [
    "## Compare energy landscapes of two systems"
   ]
  },
  {
   "cell_type": "code",
   "execution_count": null,
   "metadata": {},
   "outputs": [],
   "source": [
    "from pycatkin.functions.presets import compare_energy_landscapes\n",
    "import copy\n",
    "\n",
    "sim_system2 = copy.deepcopy(sim_system)\n",
    "sim_system2.params['temperature'] = 650\n",
    "\n",
    "sim_systems = {'450 K': sim_system,\n",
    "               '650 K': sim_system2}\n",
    "\n",
    "compare_energy_landscapes(sim_systems=sim_systems,\n",
    "                          legend_location='upper right',\n",
    "                          show_labels=True,\n",
    "                          fig_path='figures/')\n"
   ]
  },
  {
   "cell_type": "markdown",
   "metadata": {},
   "source": [
    "## Run microkinetics simulation"
   ]
  },
  {
   "cell_type": "code",
   "execution_count": null,
   "metadata": {},
   "outputs": [],
   "source": [
    "from pycatkin.functions.presets import run\n",
    "\n",
    "run(sim_system=sim_system,\n",
    "    plot_results=True,\n",
    "    save_results=True,\n",
    "    fig_path='figures/',\n",
    "    csv_path='outputs/')\n"
   ]
  },
  {
   "cell_type": "markdown",
   "metadata": {},
   "source": [
    "## Run simulations for a range of temperatures"
   ]
  },
  {
   "cell_type": "code",
   "execution_count": null,
   "metadata": {},
   "outputs": [],
   "source": [
    "from pycatkin.functions.presets import run_temperatures\n",
    "import numpy as np\n",
    "\n",
    "temperatures = np.linspace(start=400, stop=800, num=17, endpoint=True)\n",
    "run_temperatures(sim_system=sim_system,\n",
    "                 temperatures=temperatures,\n",
    "                 plot_results=True,\n",
    "                 steady_state_solve=True,\n",
    "                 save_results=True,\n",
    "                 fig_path='figures/',\n",
    "                 csv_path='outputs/')\n"
   ]
  },
  {
   "cell_type": "markdown",
   "metadata": {},
   "source": [
    "## Run simulations and compute DRC"
   ]
  },
  {
   "cell_type": "code",
   "execution_count": null,
   "metadata": {},
   "outputs": [],
   "source": [
    "tof_terms = ['r5', 'r9']\n",
    "run_temperatures(sim_system=sim_system,\n",
    "                 temperatures=temperatures,\n",
    "                 tof_terms=tof_terms,\n",
    "                 plot_results=True,\n",
    "                 steady_state_solve=True,\n",
    "                 save_results=True,\n",
    "                 fig_path='figures/',\n",
    "                 csv_path='outputs/')\n"
   ]
  },
  {
   "cell_type": "markdown",
   "metadata": {},
   "source": [
    "## Run energy span model for a range of temperatures"
   ]
  },
  {
   "cell_type": "code",
   "execution_count": null,
   "metadata": {},
   "outputs": [],
   "source": [
    "from pycatkin.functions.presets import run_energy_span_temperatures\n",
    "import numpy as np\n",
    "\n",
    "temperatures = [500]\n",
    "run_energy_span_temperatures(sim_system=sim_system,\n",
    "                             temperatures=temperatures,\n",
    "                             save_results=True,\n",
    "                             csv_path='outputs/')\n"
   ]
  },
  {
   "cell_type": "markdown",
   "metadata": {},
   "source": [
    "## Save state energies"
   ]
  },
  {
   "cell_type": "code",
   "execution_count": null,
   "metadata": {},
   "outputs": [],
   "source": [
    "from pycatkin.functions.presets import save_state_energies\n",
    "\n",
    "save_state_energies(sim_system=sim_system,\n",
    "                    csv_path='outputs/')\n"
   ]
  },
  {
   "cell_type": "markdown",
   "metadata": {},
   "source": [
    "## Save reaction energies and barriers"
   ]
  },
  {
   "cell_type": "code",
   "execution_count": null,
   "metadata": {},
   "outputs": [],
   "source": [
    "from pycatkin.functions.presets import save_energies\n",
    "\n",
    "save_energies(sim_system=sim_system,\n",
    "              csv_path='outputs/')\n"
   ]
  },
  {
   "cell_type": "markdown",
   "metadata": {},
   "source": [
    "## Save reaction energies and barriers for a range of temperatures"
   ]
  },
  {
   "cell_type": "code",
   "execution_count": null,
   "metadata": {},
   "outputs": [],
   "source": [
    "from pycatkin.functions.presets import save_energies_temperatures\n",
    "import numpy as np\n",
    "\n",
    "temperatures = np.linspace(start=400, stop=800, num=17, endpoint=True)\n",
    "save_energies_temperatures(sim_system=sim_system,\n",
    "                           temperatures=temperatures,\n",
    "                           csv_path='outputs/')\n"
   ]
  },
  {
   "cell_type": "code",
   "execution_count": null,
   "metadata": {},
   "outputs": [],
   "source": []
  }
 ],
 "metadata": {
  "kernelspec": {
   "display_name": "pycatkin",
   "language": "python",
   "name": "python3"
  },
  "language_info": {
   "codemirror_mode": {
    "name": "ipython",
    "version": 3
   },
   "file_extension": ".py",
   "mimetype": "text/x-python",
   "name": "python",
   "nbconvert_exporter": "python",
   "pygments_lexer": "ipython3",
   "version": "3.10.18"
  }
 },
 "nbformat": 4,
 "nbformat_minor": 4
}
