{
 "cells": [
  {
   "cell_type": "markdown",
   "metadata": {},
   "source": [
    "# CO oxidation volcano"
   ]
  },
  {
   "cell_type": "markdown",
   "metadata": {},
   "source": [
    "## Load input file"
   ]
  },
  {
   "cell_type": "code",
   "execution_count": 1,
   "metadata": {},
   "outputs": [
    {
     "name": "stdout",
     "output_type": "stream",
     "text": [
      "Loading input file: input.json.\n",
      "Reading states:\n",
      "* s\n",
      "* sCO\n",
      "* sO\n",
      "* CO\n",
      "* O2\n",
      "* CO2\n",
      "Reading scaling relation states:\n",
      "* sO2\n",
      "* SRTS_ox\n",
      "* SRTS_O2\n",
      "Reading system:\n",
      "* Pressure: 100000 Pa\n",
      "* Temperature: 600 K\n",
      "Reading reactions:\n",
      "* CO_ads\n",
      "* O2_ads\n",
      "* CO_ox\n",
      "* O2_2O\n",
      "* 2O_ads\n",
      "Reading reactor:\n",
      "* InfiniteDilutionReactor\n",
      "Done.\n"
     ]
    }
   ],
   "source": [
    "from pycatkin.functions.load_input import read_from_input_file\n",
    "\n",
    "sim_system = read_from_input_file()\n"
   ]
  },
  {
   "cell_type": "code",
   "execution_count": 2,
   "metadata": {},
   "outputs": [],
   "source": [
    "import numpy as np"
   ]
  },
  {
   "cell_type": "code",
   "execution_count": null,
   "metadata": {},
   "outputs": [],
   "source": [
    "sim_system"
   ]
  },
  {
   "cell_type": "code",
   "execution_count": null,
   "metadata": {},
   "outputs": [],
   "source": []
  },
  {
   "cell_type": "code",
   "execution_count": 4,
   "metadata": {},
   "outputs": [
    {
     "ename": "TypeError",
     "evalue": "'float' object is not subscriptable",
     "output_type": "error",
     "traceback": [
      "\u001b[1;31m---------------------------------------------------------------------------\u001b[0m",
      "\u001b[1;31mTypeError\u001b[0m                                 Traceback (most recent call last)",
      "Cell \u001b[1;32mIn[4], line 16\u001b[0m\n\u001b[0;32m     13\u001b[0m sim_system\u001b[38;5;241m.\u001b[39mreactions[\u001b[38;5;124m'\u001b[39m\u001b[38;5;124m2O_ads\u001b[39m\u001b[38;5;124m'\u001b[39m]\u001b[38;5;241m.\u001b[39mdGrxn_user \u001b[38;5;241m=\u001b[39m \u001b[38;5;241m2.0\u001b[39m \u001b[38;5;241m*\u001b[39m EO \u001b[38;5;241m+\u001b[39m SO2g \u001b[38;5;241m*\u001b[39m T\n\u001b[0;32m     15\u001b[0m \u001b[38;5;66;03m# (c) Set O2 adsorption energy and entropy\u001b[39;00m\n\u001b[1;32m---> 16\u001b[0m EO2 \u001b[38;5;241m=\u001b[39m \u001b[43msim_system\u001b[49m\u001b[38;5;241;43m.\u001b[39;49m\u001b[43mstates\u001b[49m\u001b[43m[\u001b[49m\u001b[38;5;124;43m'\u001b[39;49m\u001b[38;5;124;43msO2\u001b[39;49m\u001b[38;5;124;43m'\u001b[39;49m\u001b[43m]\u001b[49m\u001b[38;5;241;43m.\u001b[39;49m\u001b[43mget_potential_energy\u001b[49m\u001b[43m(\u001b[49m\u001b[43m)\u001b[49m\n\u001b[0;32m     17\u001b[0m sim_system\u001b[38;5;241m.\u001b[39mreactions[\u001b[38;5;124m'\u001b[39m\u001b[38;5;124mO2_ads\u001b[39m\u001b[38;5;124m'\u001b[39m]\u001b[38;5;241m.\u001b[39mdErxn_user \u001b[38;5;241m=\u001b[39m EO2\n\u001b[0;32m     18\u001b[0m sim_system\u001b[38;5;241m.\u001b[39mreactions[\u001b[38;5;124m'\u001b[39m\u001b[38;5;124mO2_ads\u001b[39m\u001b[38;5;124m'\u001b[39m]\u001b[38;5;241m.\u001b[39mdGrxn_user \u001b[38;5;241m=\u001b[39m EO2 \u001b[38;5;241m+\u001b[39m SO2g \u001b[38;5;241m*\u001b[39m T\n",
      "File \u001b[1;32mc:\\users\\joe48\\desktop\\pycatkin\\pycatkin\\classes\\state.py:402\u001b[0m, in \u001b[0;36mState.get_potential_energy\u001b[1;34m(self, verbose)\u001b[0m\n\u001b[0;32m    397\u001b[0m \u001b[38;5;28;01mdef\u001b[39;00m\u001b[38;5;250m \u001b[39m\u001b[38;5;21mget_potential_energy\u001b[39m(\u001b[38;5;28mself\u001b[39m, verbose\u001b[38;5;241m=\u001b[39m\u001b[38;5;28;01mFalse\u001b[39;00m):\n\u001b[0;32m    398\u001b[0m \u001b[38;5;250m    \u001b[39m\u001b[38;5;124;03m\"\"\"Returns the potential energy in eV.\u001b[39;00m\n\u001b[0;32m    399\u001b[0m \n\u001b[0;32m    400\u001b[0m \u001b[38;5;124;03m    \"\"\"\u001b[39;00m\n\u001b[1;32m--> 402\u001b[0m     \u001b[38;5;28;43mself\u001b[39;49m\u001b[38;5;241;43m.\u001b[39;49m\u001b[43mcalc_electronic_energy\u001b[49m\u001b[43m(\u001b[49m\u001b[43mverbose\u001b[49m\u001b[38;5;241;43m=\u001b[39;49m\u001b[43mverbose\u001b[49m\u001b[43m)\u001b[49m\n\u001b[0;32m    404\u001b[0m     \u001b[38;5;28;01mreturn\u001b[39;00m \u001b[38;5;28mself\u001b[39m\u001b[38;5;241m.\u001b[39mGelec\n",
      "File \u001b[1;32mc:\\users\\joe48\\desktop\\pycatkin\\pycatkin\\classes\\state.py:514\u001b[0m, in \u001b[0;36mScalingState.calc_electronic_energy\u001b[1;34m(self, verbose)\u001b[0m\n\u001b[0;32m    512\u001b[0m     \u001b[38;5;28;01mif\u001b[39;00m \u001b[38;5;124m'\u001b[39m\u001b[38;5;124mmultiplicity\u001b[39m\u001b[38;5;124m'\u001b[39m \u001b[38;5;129;01mnot\u001b[39;00m \u001b[38;5;129;01min\u001b[39;00m r\u001b[38;5;241m.\u001b[39mkeys():\n\u001b[0;32m    513\u001b[0m         r[\u001b[38;5;124m'\u001b[39m\u001b[38;5;124mmultiplicity\u001b[39m\u001b[38;5;124m'\u001b[39m] \u001b[38;5;241m=\u001b[39m \u001b[38;5;241m1.0\u001b[39m\n\u001b[1;32m--> 514\u001b[0m     \u001b[38;5;28mself\u001b[39m\u001b[38;5;241m.\u001b[39mGelec \u001b[38;5;241m+\u001b[39m\u001b[38;5;241m=\u001b[39m r[\u001b[38;5;124m'\u001b[39m\u001b[38;5;124mmultiplicity\u001b[39m\u001b[38;5;124m'\u001b[39m] \u001b[38;5;241m*\u001b[39m (\u001b[38;5;28;43mself\u001b[39;49m\u001b[38;5;241;43m.\u001b[39;49m\u001b[43mscaling_coeffs\u001b[49m\u001b[43m[\u001b[49m\u001b[38;5;124;43m'\u001b[39;49m\u001b[38;5;124;43mgradient\u001b[39;49m\u001b[38;5;124;43m'\u001b[39;49m\u001b[43m]\u001b[49m\u001b[43m[\u001b[49m\u001b[43midx\u001b[49m\u001b[43m]\u001b[49m \u001b[38;5;241m*\u001b[39m dEIS \u001b[38;5;241m+\u001b[39m ref_EIS)\n\u001b[0;32m    516\u001b[0m \u001b[38;5;28;01mif\u001b[39;00m verbose:\n\u001b[0;32m    517\u001b[0m     \u001b[38;5;28mprint\u001b[39m((\u001b[38;5;28mself\u001b[39m\u001b[38;5;241m.\u001b[39mname \u001b[38;5;241m+\u001b[39m \u001b[38;5;124m'\u001b[39m\u001b[38;5;124m elec: \u001b[39m\u001b[38;5;132;01m%1.2f\u001b[39;00m\u001b[38;5;124m eV\u001b[39m\u001b[38;5;124m'\u001b[39m) \u001b[38;5;241m%\u001b[39m \u001b[38;5;28mself\u001b[39m\u001b[38;5;241m.\u001b[39mGelec)\n",
      "\u001b[1;31mTypeError\u001b[0m: 'float' object is not subscriptable"
     ]
    }
   ],
   "source": [
    "ECO, EO = -2, -2\n",
    "T = sim_system.T\n",
    "\n",
    "SCOg = 2.0487e-3\n",
    "SO2g = 2.1261e-3\n",
    "\n",
    "\n",
    "# (a) Set CO adsorption energy and entropy\n",
    "sim_system.reactions['CO_ads'].dErxn_user = ECO\n",
    "sim_system.reactions['CO_ads'].dGrxn_user = ECO + SCOg * T\n",
    "\n",
    "# (b) Set O adsorption energy and entropy\n",
    "sim_system.reactions['2O_ads'].dErxn_user = 2.0 * EO\n",
    "sim_system.reactions['2O_ads'].dGrxn_user = 2.0 * EO + SO2g * T\n",
    "\n",
    "# (c) Set O2 adsorption energy and entropy\n",
    "EO2 = sim_system.states['sO2'].get_potential_energy()\n",
    "sim_system.reactions['O2_ads'].dErxn_user = EO2\n",
    "sim_system.reactions['O2_ads'].dGrxn_user = EO2 + SO2g * T\n",
    "\n",
    "# (d) Set CO oxidation barrier\n",
    "ETS_CO_ox = sim_system.states['SRTS_ox'].get_potential_energy()\n",
    "sim_system.reactions['CO_ox'].dEa_fwd_user = max((ETS_CO_ox - (ECO + EO), 0.0))\n",
    "\n",
    "# (e) Set O2 dissociation barrier\n",
    "ETS_O2_2O = sim_system.states['SRTS_O2'].get_potential_energy()\n",
    "sim_system.reactions['O2_2O'].dEa_fwd_user = max((ETS_O2_2O - EO2, 0.0))\n",
    "\n",
    "sim_system.build()"
   ]
  },
  {
   "cell_type": "code",
   "execution_count": null,
   "metadata": {},
   "outputs": [],
   "source": []
  },
  {
   "cell_type": "code",
   "execution_count": null,
   "metadata": {},
   "outputs": [],
   "source": []
  },
  {
   "cell_type": "code",
   "execution_count": null,
   "metadata": {},
   "outputs": [],
   "source": []
  },
  {
   "cell_type": "code",
   "execution_count": null,
   "metadata": {},
   "outputs": [],
   "source": []
  },
  {
   "cell_type": "code",
   "execution_count": null,
   "metadata": {},
   "outputs": [],
   "source": []
  },
  {
   "cell_type": "code",
   "execution_count": null,
   "metadata": {},
   "outputs": [],
   "source": []
  },
  {
   "cell_type": "code",
   "execution_count": null,
   "metadata": {},
   "outputs": [],
   "source": []
  },
  {
   "cell_type": "code",
   "execution_count": null,
   "metadata": {},
   "outputs": [],
   "source": []
  },
  {
   "cell_type": "code",
   "execution_count": null,
   "metadata": {},
   "outputs": [],
   "source": []
  },
  {
   "cell_type": "code",
   "execution_count": null,
   "metadata": {},
   "outputs": [],
   "source": []
  },
  {
   "cell_type": "code",
   "execution_count": null,
   "metadata": {},
   "outputs": [],
   "source": []
  },
  {
   "cell_type": "code",
   "execution_count": null,
   "metadata": {},
   "outputs": [],
   "source": []
  },
  {
   "cell_type": "markdown",
   "metadata": {},
   "source": [
    "## Define a range of binding energies"
   ]
  },
  {
   "cell_type": "code",
   "execution_count": null,
   "metadata": {},
   "outputs": [],
   "source": [
    "import numpy as np\n",
    "\n",
    "be = np.linspace(start=-2.5, stop=0.5, num=10, endpoint=True)\n"
   ]
  },
  {
   "cell_type": "markdown",
   "metadata": {},
   "source": [
    "## Define the standard entropies (taken from Atkins, in eV/K)"
   ]
  },
  {
   "cell_type": "code",
   "execution_count": null,
   "metadata": {},
   "outputs": [],
   "source": [
    "SCOg = 2.0487e-3\n",
    "SO2g = 2.1261e-3\n"
   ]
  },
  {
   "cell_type": "markdown",
   "metadata": {},
   "source": [
    "## Note the temperature"
   ]
  },
  {
   "cell_type": "code",
   "execution_count": null,
   "metadata": {},
   "outputs": [],
   "source": [
    "T = sim_system.params['temperature']\n"
   ]
  },
  {
   "cell_type": "markdown",
   "metadata": {},
   "source": [
    "## Loop over energies and compute the activity"
   ]
  },
  {
   "cell_type": "code",
   "execution_count": null,
   "metadata": {},
   "outputs": [],
   "source": [
    "activity = np.zeros((len(be), len(be)))\n",
    "\n",
    "for iCO, ECO in enumerate(be):\n",
    "    for iO, EO in enumerate(be):\n",
    "\n",
    "        print('* Binding energy of CO is %1.2f, binding energy of O is %1.2f' % (ECO, EO))\n",
    "\n",
    "        # (a) Set CO adsorption energy and entropy\n",
    "        sim_system.reactions['CO_ads'].dErxn_user = ECO\n",
    "        sim_system.reactions['CO_ads'].dGrxn_user = ECO + SCOg * T\n",
    "\n",
    "        # (b) Set O adsorption energy and entropy\n",
    "        sim_system.reactions['2O_ads'].dErxn_user = 2.0 * EO\n",
    "        sim_system.reactions['2O_ads'].dGrxn_user = 2.0 * EO + SO2g * T\n",
    "\n",
    "        # (c) Set O2 adsorption energy and entropy\n",
    "        EO2 = sim_system.states['sO2'].get_potential_energy()\n",
    "        sim_system.reactions['O2_ads'].dErxn_user = EO2\n",
    "        sim_system.reactions['O2_ads'].dGrxn_user = EO2 + SO2g * T\n",
    "\n",
    "        # (d) Set CO oxidation barrier\n",
    "        ETS_CO_ox = sim_system.states['SRTS_ox'].get_potential_energy()\n",
    "        sim_system.reactions['CO_ox'].dEa_fwd_user = np.max((ETS_CO_ox - (ECO + EO), 0.0))\n",
    "\n",
    "        # (e) Set O2 dissociation barrier\n",
    "        ETS_O2_2O = sim_system.states['SRTS_O2'].get_potential_energy()\n",
    "        sim_system.reactions['O2_2O'].dEa_fwd_user = np.max((ETS_O2_2O - EO2, 0.0))\n",
    "\n",
    "        # Now compute and save the activity\n",
    "        activity[iCO, iO] = sim_system.activity(tof_terms=['CO_ox'])\n"
   ]
  },
  {
   "cell_type": "code",
   "execution_count": null,
   "metadata": {},
   "outputs": [],
   "source": [
    "import matplotlib.pyplot as plt\n",
    "import os\n",
    "\n",
    "if not os.path.isdir('figures'):\n",
    "    os.mkdir('figures')\n",
    "\n",
    "fig, ax = plt.subplots(figsize=(4, 3))\n",
    "CS = ax.contourf(be, be, activity, levels=25, cmap=plt.get_cmap(\"RdYlBu_r\"))\n",
    "fig.colorbar(CS).ax.set_ylabel('Activity (eV)')\n",
    "ax.set(xlabel=r'$E_{\\mathsf{O}}$ (eV)', ylabel=r'$E_{\\mathsf{CO}}$ (eV)')\n",
    "fig.tight_layout()\n",
    "fig.savefig('figures/activity.png', format='png', dpi=600)\n"
   ]
  },
  {
   "cell_type": "code",
   "execution_count": null,
   "metadata": {},
   "outputs": [],
   "source": []
  }
 ],
 "metadata": {
  "kernelspec": {
   "display_name": "pycatkin",
   "language": "python",
   "name": "python3"
  },
  "language_info": {
   "codemirror_mode": {
    "name": "ipython",
    "version": 3
   },
   "file_extension": ".py",
   "mimetype": "text/x-python",
   "name": "python",
   "nbconvert_exporter": "python",
   "pygments_lexer": "ipython3",
   "version": "3.10.18"
  }
 },
 "nbformat": 4,
 "nbformat_minor": 4
}
