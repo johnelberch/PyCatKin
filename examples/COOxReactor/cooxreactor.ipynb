{
 "cells": [
  {
   "cell_type": "markdown",
   "metadata": {},
   "source": [
    "# CO oxidation in a CSTR"
   ]
  },
  {
   "cell_type": "markdown",
   "metadata": {},
   "source": [
    "## Load input files"
   ]
  },
  {
   "cell_type": "code",
   "execution_count": 1,
   "metadata": {},
   "outputs": [
    {
     "name": "stdout",
     "output_type": "stream",
     "text": [
      "Loading input file: input_AuPd.json.\n",
      "Reading states:\n",
      "* s\n",
      "* sCO\n",
      "* sO\n",
      "* CO\n",
      "* O2\n",
      "* CO2\n",
      "Reading scaling relation states:\n",
      "* SRTS\n",
      "Reading system:\n",
      "* Pressure: 100000 Pa\n",
      "* Temperature: 423 K\n",
      "Reading reactions:\n",
      "* CO_ads\n",
      "* O2_ads\n",
      "* CO_ox\n",
      "Reading reactor:\n",
      "* CSTReactor\n",
      "Done.\n",
      "Loading input file: input_Pd111.json.\n",
      "Reading states:\n",
      "* s\n",
      "* sCO\n",
      "* sO\n",
      "* CO\n",
      "* O2\n",
      "* CO2\n",
      "Reading scaling relation states:\n",
      "* SRTS\n",
      "Reading system:\n",
      "* Pressure: 100000 Pa\n",
      "* Temperature: 423 K\n",
      "Reading reactions:\n",
      "* CO_ads\n",
      "* O2_ads\n",
      "* CO_ox\n",
      "Reading reactor:\n",
      "* CSTReactor\n",
      "Done.\n"
     ]
    }
   ],
   "source": [
    "from pycatkin.functions.load_input import read_from_input_file\n",
    "\n",
    "sim_system_Au = read_from_input_file(input_path='input_AuPd.json')\n",
    "sim_system_Pd = read_from_input_file(input_path='input_Pd111.json')\n"
   ]
  },
  {
   "cell_type": "code",
   "execution_count": null,
   "metadata": {},
   "outputs": [],
   "source": [
    "sim_system_Au."
   ]
  },
  {
   "cell_type": "code",
   "execution_count": null,
   "metadata": {},
   "outputs": [],
   "source": []
  },
  {
   "cell_type": "code",
   "execution_count": null,
   "metadata": {},
   "outputs": [],
   "source": []
  },
  {
   "cell_type": "markdown",
   "metadata": {},
   "source": [
    "## View the states using ASE"
   ]
  },
  {
   "cell_type": "code",
   "execution_count": 2,
   "metadata": {},
   "outputs": [
    {
     "name": "stdout",
     "output_type": "stream",
     "text": [
      "Directory does not exist. Will try creating it...\n"
     ]
    },
    {
     "ename": "AttributeError",
     "evalue": "'System' object has no attribute 'snames'",
     "output_type": "error",
     "traceback": [
      "\u001b[1;31m---------------------------------------------------------------------------\u001b[0m",
      "\u001b[1;31mAttributeError\u001b[0m                            Traceback (most recent call last)",
      "Cell \u001b[1;32mIn[2], line 7\u001b[0m\n\u001b[0;32m      4\u001b[0m \u001b[38;5;28;01mif\u001b[39;00m \u001b[38;5;129;01mnot\u001b[39;00m os\u001b[38;5;241m.\u001b[39mpath\u001b[38;5;241m.\u001b[39misdir(\u001b[38;5;124m'\u001b[39m\u001b[38;5;124mfigures\u001b[39m\u001b[38;5;124m'\u001b[39m):\n\u001b[0;32m      5\u001b[0m     os\u001b[38;5;241m.\u001b[39mmkdir(\u001b[38;5;124m'\u001b[39m\u001b[38;5;124mfigures\u001b[39m\u001b[38;5;124m'\u001b[39m)\n\u001b[1;32m----> 7\u001b[0m \u001b[43mdraw_states\u001b[49m\u001b[43m(\u001b[49m\u001b[43msim_system\u001b[49m\u001b[38;5;241;43m=\u001b[39;49m\u001b[43msim_system_Au\u001b[49m\u001b[43m,\u001b[49m\n\u001b[0;32m      8\u001b[0m \u001b[43m            \u001b[49m\u001b[43mfig_path\u001b[49m\u001b[38;5;241;43m=\u001b[39;49m\u001b[38;5;124;43m'\u001b[39;49m\u001b[38;5;124;43mfigures/AuPd/\u001b[39;49m\u001b[38;5;124;43m'\u001b[39;49m\u001b[43m)\u001b[49m\n",
      "File \u001b[1;32mc:\\users\\joe48\\desktop\\pycatkin\\pycatkin\\functions\\presets.py:318\u001b[0m, in \u001b[0;36mdraw_states\u001b[1;34m(sim_system, rotation, fig_path)\u001b[0m\n\u001b[0;32m    316\u001b[0m         \u001b[38;5;28mprint\u001b[39m(\u001b[38;5;124m'\u001b[39m\u001b[38;5;124mDirectory does not exist. Will try creating it...\u001b[39m\u001b[38;5;124m'\u001b[39m)\n\u001b[0;32m    317\u001b[0m         os\u001b[38;5;241m.\u001b[39mmkdir(fig_path)\n\u001b[1;32m--> 318\u001b[0m \u001b[38;5;28;01mfor\u001b[39;00m s \u001b[38;5;129;01min\u001b[39;00m \u001b[43msim_system\u001b[49m\u001b[38;5;241;43m.\u001b[39;49m\u001b[43msnames\u001b[49m:\n\u001b[0;32m    319\u001b[0m     \u001b[38;5;28;01mif\u001b[39;00m \u001b[38;5;129;01mnot\u001b[39;00m \u001b[38;5;28misinstance\u001b[39m(sim_system\u001b[38;5;241m.\u001b[39mstates[s], ScalingState):\n\u001b[0;32m    320\u001b[0m         sim_system\u001b[38;5;241m.\u001b[39mstates[s]\u001b[38;5;241m.\u001b[39mview_atoms(rotation\u001b[38;5;241m=\u001b[39mrotation, path\u001b[38;5;241m=\u001b[39mfig_path)\n",
      "\u001b[1;31mAttributeError\u001b[0m: 'System' object has no attribute 'snames'"
     ]
    }
   ],
   "source": [
    "from pycatkin.functions.presets import draw_states\n",
    "import os\n",
    "\n",
    "if not os.path.isdir('figures'):\n",
    "    os.mkdir('figures')\n",
    "\n",
    "draw_states(sim_system=sim_system_Au,\n",
    "            fig_path='figures/AuPd/')  # rotation='-90x'\n"
   ]
  },
  {
   "cell_type": "markdown",
   "metadata": {},
   "source": [
    "## Save the states in proteindatabank (.pdb) format"
   ]
  },
  {
   "cell_type": "code",
   "execution_count": null,
   "metadata": {},
   "outputs": [],
   "source": [
    "import os\n",
    "\n",
    "if not os.path.isdir('figures'):\n",
    "    os.mkdir('figures')\n",
    "\n",
    "for s in sim_system_Pd.snames:\n",
    "    if sim_system_Pd.states[s].state_type != 'TS':\n",
    "        sim_system_Pd.states[s].save_pdb(path='figures/Pd111/')\n"
   ]
  },
  {
   "cell_type": "markdown",
   "metadata": {},
   "source": [
    "## Run simulations for a range of temperatures"
   ]
  },
  {
   "cell_type": "code",
   "execution_count": null,
   "metadata": {},
   "outputs": [],
   "source": [
    "from pycatkin.functions.presets import run_temperatures\n",
    "import os\n",
    "import numpy as np\n",
    "\n",
    "if not os.path.isdir('outputs'):\n",
    "    os.mkdir('outputs')\n",
    "\n",
    "temperatures = np.linspace(start=423, stop=623, num=20, endpoint=True)\n",
    "\n",
    "for sysname, sim_system in [['AuPd', sim_system_Au], ['Pd111', sim_system_Pd]]:\n",
    "    run_temperatures(sim_system=sim_system,\n",
    "                     temperatures=temperatures,\n",
    "                     steady_state_solve=True,\n",
    "                     plot_results=False,\n",
    "                     save_results=True,\n",
    "                     fig_path='figures/%s/' % sysname,\n",
    "                     csv_path='outputs/%s/' % sysname)\n"
   ]
  },
  {
   "cell_type": "markdown",
   "metadata": {},
   "source": [
    "## Compute and plot conversion across the reactor"
   ]
  },
  {
   "cell_type": "code",
   "execution_count": null,
   "metadata": {},
   "outputs": [],
   "source": [
    "from pycatkin.functions.presets import plot_data_simple\n",
    "import os\n",
    "import pandas as pd\n",
    "\n",
    "fig, ax = None, None\n",
    "if not os.path.isdir('figures'):\n",
    "    os.mkdir('figures')\n",
    "\n",
    "for sysname, sim_system in [['AuPd', sim_system_Au], ['Pd111', sim_system_Pd]]:\n",
    "\n",
    "    df = pd.read_csv(filepath_or_buffer='outputs/%s/pressures_vs_temperature.csv' % sysname)\n",
    "\n",
    "    pCOin = sim_system_Pd.params['inflow_state']['CO']\n",
    "    pCOout = df['pCO (bar)'].values\n",
    "    xCO = 100.0 * (1.0 - pCOout / pCOin)\n",
    "\n",
    "    fig, ax = plot_data_simple(fig=fig,\n",
    "                               ax=ax,\n",
    "                               xdata=temperatures,\n",
    "                               ydata=xCO,\n",
    "                               xlabel='Temperature (K)',\n",
    "                               ylabel='Conversion (%)',\n",
    "                               label=sysname,\n",
    "                               addlegend=True,\n",
    "                               color='teal' if sysname == 'Pd111' else 'salmon',\n",
    "                               fig_path='figures/',\n",
    "                               fig_name='conversion')\n"
   ]
  },
  {
   "cell_type": "code",
   "execution_count": null,
   "metadata": {},
   "outputs": [],
   "source": []
  }
 ],
 "metadata": {
  "kernelspec": {
   "display_name": "pycatkin",
   "language": "python",
   "name": "python3"
  },
  "language_info": {
   "codemirror_mode": {
    "name": "ipython",
    "version": 3
   },
   "file_extension": ".py",
   "mimetype": "text/x-python",
   "name": "python",
   "nbconvert_exporter": "python",
   "pygments_lexer": "ipython3",
   "version": "3.10.18"
  }
 },
 "nbformat": 4,
 "nbformat_minor": 4
}
